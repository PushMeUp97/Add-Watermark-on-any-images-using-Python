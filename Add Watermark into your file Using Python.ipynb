{
 "cells": [
  {
   "cell_type": "code",
   "execution_count": null,
   "id": "9018d1d3-d24f-423a-9a6a-fce7cbd84b5a",
   "metadata": {},
   "outputs": [],
   "source": [
    "from PIL import Image, ImageDraw, ImageFont\n",
    "\n",
    "def add_image_watermark(input_image_path, output_image_path, watermark_text):\n",
    "    try:\n",
    "        # Open the original image\n",
    "        image = Image.open(input_image_path).convert(\"RGBA\")\n",
    "        width, height = image.size\n",
    "\n",
    "        # Create an overlay for the watermark\n",
    "        watermark_overlay = Image.new(\"RGBA\", image.size, (255, 255, 255, 0))\n",
    "        draw = ImageDraw.Draw(watermark_overlay)\n",
    "\n",
    "        # Define font and calculate text dimensions using getbbox\n",
    "        font_path = \"C:\\\\Windows\\\\Fonts\\\\arial.ttf\"  # Update font path if necessary\n",
    "        font = ImageFont.truetype(font_path, 36)\n",
    "        \n",
    "        # Calculate text size using getbbox\n",
    "        bbox = font.getbbox(watermark_text)  # Returns (left, top, right, bottom)\n",
    "        text_width, text_height = bbox[2] - bbox[0], bbox[3] - bbox[1]\n",
    "        \n",
    "        # Position the watermark at the bottom-right corner\n",
    "        position = (width - text_width - 10, height - text_height - 10)\n",
    "\n",
    "        # Add text to the watermark overlay\n",
    "        draw.text(position, watermark_text, fill=(255, 255, 255, 128), font=font)\n",
    "\n",
    "        # Combine the watermark with the original image\n",
    "        watermarked_image = Image.alpha_composite(image, watermark_overlay)\n",
    "\n",
    "        # Save the resulting image\n",
    "        watermarked_image.convert(\"RGB\").save(output_image_path, \"PNG\")  # Save as PNG\n",
    "        print(f\"Watermarked image saved to {output_image_path}\")\n",
    "\n",
    "    except Exception as e:\n",
    "        print(f\"An error occurred: {e}\")\n",
    "\n",
    "# Example usage\n",
    "add_image_watermark(\n",
    "\n",
    "    \"C:\\\\Users\\\\Locas\\\\Desktop\\\\FileTestCodex\\\\Add Watermark to any file\\\\input.jpg\",\n",
    "    \"C:\\\\Users\\\\Locas\\\\Desktop\\\\FileTestCodex\\\\Add Watermark to any file\\\\output.png\",\n",
    "    \"Here is the code working\"\n",
    ")"
   ]
  }
 ],
 "metadata": {
  "kernelspec": {
   "display_name": "Python 3 (ipykernel)",
   "language": "python",
   "name": "python3"
  },
  "language_info": {
   "codemirror_mode": {
    "name": "ipython",
    "version": 3
   },
   "file_extension": ".py",
   "mimetype": "text/x-python",
   "name": "python",
   "nbconvert_exporter": "python",
   "pygments_lexer": "ipython3",
   "version": "3.12.6"
  }
 },
 "nbformat": 4,
 "nbformat_minor": 5
}
